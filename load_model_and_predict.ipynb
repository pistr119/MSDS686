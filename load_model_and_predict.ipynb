{
 "cells": [
  {
   "cell_type": "code",
   "execution_count": 95,
   "metadata": {},
   "outputs": [
    {
     "name": "stdout",
     "output_type": "stream",
     "text": [
      "Loaded model from disk\n"
     ]
    }
   ],
   "source": [
    "from keras.models import model_from_yaml \n",
    "# load YAML and create model\n",
    "yaml_file = open(\"model.yaml\", 'r')\n",
    "loaded_model_yaml = yaml_file.read()\n",
    "yaml_file.close()\n",
    "loaded_model = model_from_yaml(loaded_model_yaml)\n",
    "# load weights into new model\n",
    "loaded_model.load_weights('trained_model.h5')\n",
    "print(\"Loaded model from disk\")"
   ]
  },
  {
   "cell_type": "code",
   "execution_count": 96,
   "metadata": {},
   "outputs": [],
   "source": [
    " \n",
    "import sys\n",
    "import os\n",
    "import csv\n",
    "\n",
    "template_file = open('sample_submission.csv','r')\n",
    "d_reader = csv.DictReader(template_file)\n",
    "\n",
    "headers = d_reader.fieldnames\n",
    "template_file.close()\n",
    "\n",
    "os.remove('submit.csv')\n",
    "f = open('submit.csv','w')\n",
    "writer = csv.DictWriter(f, fieldnames = headers)\n",
    "writer.writeheader()\n",
    "f.close()\n"
   ]
  },
  {
   "cell_type": "code",
   "execution_count": 97,
   "metadata": {},
   "outputs": [
    {
     "name": "stdout",
     "output_type": "stream",
     "text": [
      "Found 10222 images belonging to 120 classes.\n"
     ]
    }
   ],
   "source": [
    "import numpy as np\n",
    "from keras.preprocessing import image\n",
    "from keras.preprocessing.image import ImageDataGenerator\n",
    "\n",
    "train_data = 'images/train'\n",
    "\n",
    "train_datagen = ImageDataGenerator(rescale = 1./255,\n",
    "                                   shear_range = 0.2,\n",
    "                                   zoom_range = 0.2,\n",
    "                                   horizontal_flip = True)\n",
    "\n",
    "\n",
    "training_set = train_datagen.flow_from_directory(\n",
    "        train_data,\n",
    "        target_size=(32,32),#size of images expected in cnn model same as input shape\n",
    "        batch_size=32, #size of fbatches\n",
    "        class_mode='categorical') #binary or more than 2 categories.  \n",
    "classifier=loaded_model\n",
    "\n",
    "\n",
    "\n",
    "\n"
   ]
  },
  {
   "cell_type": "code",
   "execution_count": 98,
   "metadata": {},
   "outputs": [],
   "source": [
    "#training_set.class_indices\n",
    " \n",
    "#import numpy as np\n",
    "#import pandas as pd\n",
    "\n",
    "#filename='germanshepherd.jpg'\n",
    "#test_image = image.load_img('images/single_image/' + filename, target_size = (32, 32))\n",
    "#test_image = image.img_to_array(test_image)\n",
    "#test_image = np.expand_dims(test_image, axis = 0)\n",
    "#result = classifier.predict(test_image)\n",
    "\n",
    "#outputstring=filename+','\n",
    "\n",
    "#for r in result[0]:\n",
    "#    outputstring+=str(r)+','\n",
    "\n",
    "#outputstring=outputstring[0:len(outputstring)-1]\n",
    "\n",
    "#with open('submit.csv','a') as fd:\n",
    "#   fd.write(outputstring)\n",
    " "
   ]
  },
  {
   "cell_type": "code",
   "execution_count": 99,
   "metadata": {},
   "outputs": [],
   "source": [
    "test_data = 'images/test'\n",
    "files = os.listdir(test_data)\n",
    "\n",
    "import numpy as np\n",
    "import pandas as pd\n",
    "\n",
    "for file in files:\n",
    "    test_image = image.load_img('images/test/' + file, target_size = (32, 32))\n",
    "    test_image = image.img_to_array(test_image)\n",
    "    test_image = np.expand_dims(test_image, axis = 0)\n",
    "    result = classifier.predict(test_image)\n",
    "    outputstring=(file[0:len(file)-4]+',')\n",
    "    for r in result[0]:\n",
    "        outputstring+=str(r)+','\n",
    "    outputstring=outputstring[0:len(outputstring)-1]\n",
    "    with open('submit.csv','a') as fd:\n",
    "        fd.write(outputstring)\n",
    "        fd.write('\\n')"
   ]
  },
  {
   "cell_type": "code",
   "execution_count": null,
   "metadata": {},
   "outputs": [],
   "source": []
  },
  {
   "cell_type": "code",
   "execution_count": null,
   "metadata": {},
   "outputs": [],
   "source": []
  }
 ],
 "metadata": {
  "kernelspec": {
   "display_name": "Python 3",
   "language": "python",
   "name": "python3"
  },
  "language_info": {
   "codemirror_mode": {
    "name": "ipython",
    "version": 3
   },
   "file_extension": ".py",
   "mimetype": "text/x-python",
   "name": "python",
   "nbconvert_exporter": "python",
   "pygments_lexer": "ipython3",
   "version": "3.6.4"
  }
 },
 "nbformat": 4,
 "nbformat_minor": 2
}
